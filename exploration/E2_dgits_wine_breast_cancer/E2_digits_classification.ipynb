{
 "cells": [
  {
   "cell_type": "markdown",
   "id": "deluxe-export",
   "metadata": {},
   "source": [
    "# ✏ 손글씨 분류하기"
   ]
  },
  {
   "cell_type": "markdown",
   "id": "assisted-beginning",
   "metadata": {},
   "source": [
    "**😊 목차**\n",
    "1. 데이터 불러오기 / 구성 확인하기\n",
    "2. 데이터 전처리\n",
    "3. 모델 학습 및 예측\n",
    "4. 고찰"
   ]
  },
  {
   "cell_type": "code",
   "execution_count": 1,
   "id": "under-traveler",
   "metadata": {},
   "outputs": [],
   "source": [
    "from sklearn.model_selection import train_test_split\n",
    "from sklearn.metrics import classification_report\n",
    "from sklearn.metrics import confusion_matrix\n",
    "from sklearn.tree import DecisionTreeClassifier\n",
    "from sklearn.ensemble import RandomForestClassifier\n",
    "from sklearn import svm\n",
    "from sklearn.linear_model import SGDClassifier\n",
    "from sklearn.linear_model import LogisticRegression"
   ]
  },
  {
   "cell_type": "markdown",
   "id": "wanted-victim",
   "metadata": {},
   "source": [
    "#### 1.데이터 불러오기 / 구성 확인하기 "
   ]
  },
  {
   "cell_type": "code",
   "execution_count": 2,
   "id": "loose-warrant",
   "metadata": {},
   "outputs": [],
   "source": [
    "from sklearn.datasets import load_digits\n",
    "digits = load_digits()"
   ]
  },
  {
   "cell_type": "code",
   "execution_count": 3,
   "id": "opened-lebanon",
   "metadata": {},
   "outputs": [
    {
     "data": {
      "text/plain": [
       "dict_keys(['data', 'target', 'frame', 'feature_names', 'target_names', 'images', 'DESCR'])"
      ]
     },
     "execution_count": 3,
     "metadata": {},
     "output_type": "execute_result"
    }
   ],
   "source": [
    "digits.keys() # 7가지 정보"
   ]
  },
  {
   "cell_type": "code",
   "execution_count": 4,
   "id": "automotive-cricket",
   "metadata": {
    "scrolled": true
   },
   "outputs": [
    {
     "data": {
      "text/plain": [
       "(1797, 64)"
      ]
     },
     "execution_count": 4,
     "metadata": {},
     "output_type": "execute_result"
    }
   ],
   "source": [
    "digits.data.shape # 1797개의 데이터가 64개의 종류로 특징지어진 데이터셋"
   ]
  },
  {
   "cell_type": "code",
   "execution_count": 5,
   "id": "academic-sheriff",
   "metadata": {},
   "outputs": [
    {
     "data": {
      "text/plain": [
       "array([ 0.,  0.,  5., 13.,  9.,  1.,  0.,  0.,  0.,  0., 13., 15., 10.,\n",
       "       15.,  5.,  0.,  0.,  3., 15.,  2.,  0., 11.,  8.,  0.,  0.,  4.,\n",
       "       12.,  0.,  0.,  8.,  8.,  0.,  0.,  5.,  8.,  0.,  0.,  9.,  8.,\n",
       "        0.,  0.,  4., 11.,  0.,  1., 12.,  7.,  0.,  0.,  2., 14.,  5.,\n",
       "       10., 12.,  0.,  0.,  0.,  0.,  6., 13., 10.,  0.,  0.,  0.])"
      ]
     },
     "execution_count": 5,
     "metadata": {},
     "output_type": "execute_result"
    }
   ],
   "source": [
    "digits.data[0] # 데이터는 8x8 배열 헝태"
   ]
  },
  {
   "cell_type": "code",
   "execution_count": 6,
   "id": "informed-government",
   "metadata": {
    "scrolled": true
   },
   "outputs": [
    {
     "data": {
      "text/plain": [
       "array([0, 1, 2, 3, 4, 5, 6, 7, 8, 9])"
      ]
     },
     "execution_count": 6,
     "metadata": {},
     "output_type": "execute_result"
    }
   ],
   "source": [
    "digits.target_names # 0 ~ 9 까지 총 10개 라벨"
   ]
  },
  {
   "cell_type": "markdown",
   "id": "postal-boston",
   "metadata": {},
   "source": [
    "데이터 Describe\n",
    "\n",
    "1. 손글씨 데이터 1797개\n",
    "2. 해당 데이터는 8x8 배열 형태\n",
    "3. 64개의 특징을 이용하여 라벨(0 ~ 9)에 따라 분류"
   ]
  },
  {
   "cell_type": "markdown",
   "id": "living-generator",
   "metadata": {},
   "source": [
    "---"
   ]
  },
  {
   "cell_type": "markdown",
   "id": "suffering-validity",
   "metadata": {},
   "source": [
    "#### 2. 데이터 전처리"
   ]
  },
  {
   "cell_type": "code",
   "execution_count": 7,
   "id": "pursuant-sterling",
   "metadata": {},
   "outputs": [],
   "source": [
    "# 데이터, 라벨 지정\n",
    "digits_data = digits.data\n",
    "digits_label = digits.target"
   ]
  },
  {
   "cell_type": "code",
   "execution_count": 8,
   "id": "democratic-dress",
   "metadata": {},
   "outputs": [
    {
     "name": "stdout",
     "output_type": "stream",
     "text": [
      "X_train 갯수: 1437\n",
      "X_test 갯수: 360\n"
     ]
    }
   ],
   "source": [
    "# train, test 데이터 분리\n",
    "X_train, X_test, y_train, y_test = train_test_split(digits_data,\n",
    "                                                    digits_label,\n",
    "                                                    test_size=0.2,\n",
    "                                                    random_state=1)\n",
    "print(\"X_train 갯수:\", len(X_train))\n",
    "print(\"X_test 갯수:\", len(X_test))"
   ]
  },
  {
   "cell_type": "markdown",
   "id": "electrical-azerbaijan",
   "metadata": {},
   "source": [
    "---"
   ]
  },
  {
   "cell_type": "markdown",
   "id": "featured-cancer",
   "metadata": {},
   "source": [
    "#### 3. 모델 학습 및 예측\n",
    "\n",
    "- **Decision Tree:** 계산복잡성 대비 높은 예측 성능을 갖고 있지만, 결정경계(decision boundary)가 데이터 축에 수직이어서 특정 데이터에만 잘 작동할 가능성이 높음\n",
    "- **Random Forest:** 의사결정나무를 여러 개 만들어 그 결과를 종합해 예측\n",
    "- **SVM:** 데이터를 비선형 매핑(Mapping)을 통해 고차원으로 변환하고, 새로운 차원에서 초평면(hyperplane)을 최적으로 분리하는 선형분리를 찾아서 최적의 의사결정 영역(Decision Boundary)를 찾음\n",
    "- **SGD Classifier:** 확률적으로 무작위로 골라낸 데이터에 대해 수행하는 경사 하강법\n",
    "- **Logistic Regession:** 회귀를 사용하여 데이터가 어떤 범주에 속할 확률을 0에서 1 사이의 값으로 예측하고, 그 확률에 따라 가능성이 더 높은 범주에 속하는 것으로 분류"
   ]
  },
  {
   "cell_type": "code",
   "execution_count": 9,
   "id": "outdoor-ukraine",
   "metadata": {},
   "outputs": [
    {
     "name": "stdout",
     "output_type": "stream",
     "text": [
      "              precision    recall  f1-score   support\n",
      "\n",
      "           0       1.00      0.93      0.96        43\n",
      "           1       0.90      0.80      0.85        35\n",
      "           2       0.87      0.92      0.89        36\n",
      "           3       0.90      0.68      0.78        41\n",
      "           4       0.77      0.95      0.85        38\n",
      "           5       0.81      0.97      0.88        30\n",
      "           6       0.97      0.97      0.97        37\n",
      "           7       0.91      0.81      0.86        37\n",
      "           8       0.81      0.90      0.85        29\n",
      "           9       0.71      0.74      0.72        34\n",
      "\n",
      "    accuracy                           0.86       360\n",
      "   macro avg       0.87      0.87      0.86       360\n",
      "weighted avg       0.87      0.86      0.86       360\n",
      "\n",
      "[[40  0  0  0  1  1  0  0  1  0]\n",
      " [ 0 28  1  1  2  0  0  0  2  1]\n",
      " [ 0  0 33  0  0  1  1  0  1  0]\n",
      " [ 0  0  3 28  0  1  0  2  1  6]\n",
      " [ 0  1  0  0 36  0  0  1  0  0]\n",
      " [ 0  0  0  0  0 29  0  0  0  1]\n",
      " [ 0  0  0  0  1  0 36  0  0  0]\n",
      " [ 0  1  1  0  3  0  0 30  0  2]\n",
      " [ 0  0  0  0  1  2  0  0 26  0]\n",
      " [ 0  1  0  2  3  2  0  0  1 25]]\n"
     ]
    }
   ],
   "source": [
    "# Decision Tree\n",
    "decision_tree = DecisionTreeClassifier(random_state=2)\n",
    "decision_tree.fit(X_train, y_train)\n",
    "y_pred = decision_tree.predict(X_test)\n",
    "\n",
    "print(classification_report(y_test, y_pred))\n",
    "print(confusion_matrix(y_test, y_pred))"
   ]
  },
  {
   "cell_type": "code",
   "execution_count": 10,
   "id": "black-workshop",
   "metadata": {},
   "outputs": [
    {
     "name": "stdout",
     "output_type": "stream",
     "text": [
      "              precision    recall  f1-score   support\n",
      "\n",
      "           0       1.00      0.95      0.98        43\n",
      "           1       1.00      1.00      1.00        35\n",
      "           2       1.00      1.00      1.00        36\n",
      "           3       1.00      0.98      0.99        41\n",
      "           4       0.95      1.00      0.97        38\n",
      "           5       0.97      1.00      0.98        30\n",
      "           6       1.00      1.00      1.00        37\n",
      "           7       1.00      0.97      0.99        37\n",
      "           8       0.97      0.97      0.97        29\n",
      "           9       0.94      0.97      0.96        34\n",
      "\n",
      "    accuracy                           0.98       360\n",
      "   macro avg       0.98      0.98      0.98       360\n",
      "weighted avg       0.98      0.98      0.98       360\n",
      "\n"
     ]
    }
   ],
   "source": [
    "# Random Forest\n",
    "random_forest = RandomForestClassifier(random_state=2)\n",
    "random_forest.fit(X_train, y_train)\n",
    "y_pred = random_forest.predict(X_test)\n",
    "\n",
    "print(classification_report(y_test, y_pred))"
   ]
  },
  {
   "cell_type": "code",
   "execution_count": 11,
   "id": "golden-weekend",
   "metadata": {},
   "outputs": [
    {
     "name": "stdout",
     "output_type": "stream",
     "text": [
      "              precision    recall  f1-score   support\n",
      "\n",
      "           0       1.00      1.00      1.00        43\n",
      "           1       1.00      1.00      1.00        35\n",
      "           2       1.00      1.00      1.00        36\n",
      "           3       1.00      1.00      1.00        41\n",
      "           4       1.00      1.00      1.00        38\n",
      "           5       0.97      1.00      0.98        30\n",
      "           6       1.00      1.00      1.00        37\n",
      "           7       1.00      0.97      0.99        37\n",
      "           8       1.00      0.97      0.98        29\n",
      "           9       0.94      0.97      0.96        34\n",
      "\n",
      "    accuracy                           0.99       360\n",
      "   macro avg       0.99      0.99      0.99       360\n",
      "weighted avg       0.99      0.99      0.99       360\n",
      "\n"
     ]
    }
   ],
   "source": [
    "# SVM\n",
    "svm_model = svm.SVC()\n",
    "svm_model.fit(X_train, y_train)\n",
    "y_pred = svm_model.predict(X_test)\n",
    "\n",
    "print(classification_report(y_test, y_pred))"
   ]
  },
  {
   "cell_type": "code",
   "execution_count": 12,
   "id": "improved-leave",
   "metadata": {},
   "outputs": [
    {
     "name": "stdout",
     "output_type": "stream",
     "text": [
      "              precision    recall  f1-score   support\n",
      "\n",
      "           0       1.00      0.95      0.98        43\n",
      "           1       0.92      1.00      0.96        35\n",
      "           2       1.00      1.00      1.00        36\n",
      "           3       1.00      0.90      0.95        41\n",
      "           4       0.93      0.97      0.95        38\n",
      "           5       0.93      0.93      0.93        30\n",
      "           6       1.00      1.00      1.00        37\n",
      "           7       1.00      0.92      0.96        37\n",
      "           8       0.88      0.97      0.92        29\n",
      "           9       0.91      0.94      0.93        34\n",
      "\n",
      "    accuracy                           0.96       360\n",
      "   macro avg       0.96      0.96      0.96       360\n",
      "weighted avg       0.96      0.96      0.96       360\n",
      "\n"
     ]
    }
   ],
   "source": [
    "# SGD Classifier\n",
    "sgd_model = SGDClassifier()\n",
    "sgd_model.fit(X_train, y_train)\n",
    "y_pred = sgd_model.predict(X_test)\n",
    "\n",
    "print(classification_report(y_test, y_pred))"
   ]
  },
  {
   "cell_type": "code",
   "execution_count": 13,
   "id": "addressed-queue",
   "metadata": {},
   "outputs": [
    {
     "name": "stdout",
     "output_type": "stream",
     "text": [
      "              precision    recall  f1-score   support\n",
      "\n",
      "           0       1.00      0.98      0.99        43\n",
      "           1       0.97      0.97      0.97        35\n",
      "           2       1.00      1.00      1.00        36\n",
      "           3       0.95      0.98      0.96        41\n",
      "           4       0.93      1.00      0.96        38\n",
      "           5       0.90      0.93      0.92        30\n",
      "           6       1.00      1.00      1.00        37\n",
      "           7       1.00      0.89      0.94        37\n",
      "           8       0.97      0.97      0.97        29\n",
      "           9       0.97      0.97      0.97        34\n",
      "\n",
      "    accuracy                           0.97       360\n",
      "   macro avg       0.97      0.97      0.97       360\n",
      "weighted avg       0.97      0.97      0.97       360\n",
      "\n"
     ]
    },
    {
     "name": "stderr",
     "output_type": "stream",
     "text": [
      "/opt/conda/lib/python3.7/site-packages/sklearn/linear_model/_logistic.py:762: ConvergenceWarning: lbfgs failed to converge (status=1):\n",
      "STOP: TOTAL NO. of ITERATIONS REACHED LIMIT.\n",
      "\n",
      "Increase the number of iterations (max_iter) or scale the data as shown in:\n",
      "    https://scikit-learn.org/stable/modules/preprocessing.html\n",
      "Please also refer to the documentation for alternative solver options:\n",
      "    https://scikit-learn.org/stable/modules/linear_model.html#logistic-regression\n",
      "  extra_warning_msg=_LOGISTIC_SOLVER_CONVERGENCE_MSG)\n"
     ]
    }
   ],
   "source": [
    "# Logistic Regression\n",
    "logistic_model = LogisticRegression()\n",
    "logistic_model.fit(X_train, y_train)\n",
    "y_pred = logistic_model.predict(X_test)\n",
    "\n",
    "print(classification_report(y_test, y_pred))"
   ]
  },
  {
   "cell_type": "markdown",
   "id": "political-crawford",
   "metadata": {},
   "source": [
    "---"
   ]
  },
  {
   "cell_type": "markdown",
   "id": "sufficient-trademark",
   "metadata": {},
   "source": [
    "#### 4. 고찰"
   ]
  },
  {
   "cell_type": "markdown",
   "id": "desperate-filename",
   "metadata": {},
   "source": [
    "- 데이터 Descibe\n",
    "1. 손글씨 데이터 1797개\n",
    "2. 해당 데이터는 8x8 배열 형태\n",
    "3. 64개의 특징을 이용하여 라벨(0 ~ 9)에 따라 분류\n",
    "\n",
    "- Decision Tree를 제외한 나머지 모델의 정확도는 모두 0.95 이상으로, Decision Tree를 제외한 4가지 모델을 사용하면 좋을듯 하다.\n",
    "\n",
    "- Decision Tree의 경우 4와 9의 정확도가 낮음을 확인할 수 있다. 추가적으로 오차행렬을 확인해보니 4는 7과 9로 혼동하는 경우, 9는 3으로 혼동하는 경우가 많음을 알 수 있다."
   ]
  }
 ],
 "metadata": {
  "kernelspec": {
   "display_name": "Python 3",
   "language": "python",
   "name": "python3"
  },
  "language_info": {
   "codemirror_mode": {
    "name": "ipython",
    "version": 3
   },
   "file_extension": ".py",
   "mimetype": "text/x-python",
   "name": "python",
   "nbconvert_exporter": "python",
   "pygments_lexer": "ipython3",
   "version": "3.7.9"
  }
 },
 "nbformat": 4,
 "nbformat_minor": 5
}
