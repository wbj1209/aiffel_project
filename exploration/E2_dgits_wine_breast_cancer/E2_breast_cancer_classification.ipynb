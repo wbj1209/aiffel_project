{
 "cells": [
  {
   "cell_type": "markdown",
   "id": "direct-catholic",
   "metadata": {},
   "source": [
    "# 🏥 유방암 진단하기"
   ]
  },
  {
   "cell_type": "markdown",
   "id": "ready-broadway",
   "metadata": {},
   "source": [
    "**😊 목차**\n",
    "1. 데이터 불러오기 / 구성 확인하기\n",
    "2. 데이터 전처리\n",
    "3. 모델 학습 및 예측\n",
    "4. 고찰"
   ]
  },
  {
   "cell_type": "code",
   "execution_count": 1,
   "id": "center-component",
   "metadata": {},
   "outputs": [],
   "source": [
    "from sklearn.model_selection import train_test_split\n",
    "from sklearn.metrics import classification_report\n",
    "from sklearn.metrics import confusion_matrix\n",
    "from sklearn.tree import DecisionTreeClassifier\n",
    "from sklearn.ensemble import RandomForestClassifier\n",
    "from sklearn import svm\n",
    "from sklearn.linear_model import SGDClassifier\n",
    "from sklearn.linear_model import LogisticRegression"
   ]
  },
  {
   "cell_type": "markdown",
   "id": "incorporated-penny",
   "metadata": {},
   "source": [
    "#### 1.데이터 불러오기 / 구성 확인하기 "
   ]
  },
  {
   "cell_type": "code",
   "execution_count": 2,
   "id": "amateur-newton",
   "metadata": {},
   "outputs": [],
   "source": [
    "from sklearn.datasets import load_breast_cancer\n",
    "\n",
    "cancer = load_breast_cancer()"
   ]
  },
  {
   "cell_type": "code",
   "execution_count": 3,
   "id": "robust-customer",
   "metadata": {},
   "outputs": [
    {
     "data": {
      "text/plain": [
       "dict_keys(['data', 'target', 'frame', 'target_names', 'DESCR', 'feature_names', 'filename'])"
      ]
     },
     "execution_count": 3,
     "metadata": {},
     "output_type": "execute_result"
    }
   ],
   "source": [
    "cancer.keys() # 7가지 정보"
   ]
  },
  {
   "cell_type": "code",
   "execution_count": 4,
   "id": "gorgeous-compression",
   "metadata": {
    "scrolled": true
   },
   "outputs": [
    {
     "data": {
      "text/plain": [
       "(569, 30)"
      ]
     },
     "execution_count": 4,
     "metadata": {},
     "output_type": "execute_result"
    }
   ],
   "source": [
    "cancer.data.shape # 569개의 데이터가 30개의 종류로 특징지어진 데이터셋"
   ]
  },
  {
   "cell_type": "code",
   "execution_count": 5,
   "id": "prescription-witch",
   "metadata": {
    "scrolled": true
   },
   "outputs": [
    {
     "data": {
      "text/plain": [
       "array(['malignant', 'benign'], dtype='<U9')"
      ]
     },
     "execution_count": 5,
     "metadata": {},
     "output_type": "execute_result"
    }
   ],
   "source": [
    "cancer.target_names # 악성, 양성"
   ]
  },
  {
   "cell_type": "markdown",
   "id": "confidential-wiring",
   "metadata": {},
   "source": [
    "데이터 Describe\n",
    "\n",
    "1. 유방암 데이터 569개\n",
    "2. 해당 데이터의 30개 특징을 이용하여 악성, 양성 분류"
   ]
  },
  {
   "cell_type": "markdown",
   "id": "norman-specialist",
   "metadata": {},
   "source": [
    "---"
   ]
  },
  {
   "cell_type": "markdown",
   "id": "instrumental-forge",
   "metadata": {},
   "source": [
    "#### 2. 데이터 전처리"
   ]
  },
  {
   "cell_type": "code",
   "execution_count": 6,
   "id": "correct-crisis",
   "metadata": {},
   "outputs": [],
   "source": [
    "# 데이터, 라벨 지정\n",
    "cancer_data = cancer.data\n",
    "cancer_label = cancer.target"
   ]
  },
  {
   "cell_type": "code",
   "execution_count": 7,
   "id": "silent-motel",
   "metadata": {},
   "outputs": [
    {
     "name": "stdout",
     "output_type": "stream",
     "text": [
      "X_train 갯수: 455\n",
      "X_test 갯수: 114\n"
     ]
    }
   ],
   "source": [
    "# train, test 데이터 분리\n",
    "X_train, X_test, y_train, y_test = train_test_split(cancer_data,\n",
    "                                                    cancer_label,\n",
    "                                                    test_size=0.2,\n",
    "                                                    random_state=1)\n",
    "print(\"X_train 갯수:\", len(X_train))\n",
    "print(\"X_test 갯수:\", len(X_test))"
   ]
  },
  {
   "cell_type": "markdown",
   "id": "reverse-beast",
   "metadata": {},
   "source": [
    "---"
   ]
  },
  {
   "cell_type": "markdown",
   "id": "treated-exclusion",
   "metadata": {},
   "source": [
    "#### 3. 모델 학습 및 예측\n",
    "\n",
    "- **Decision Tree:** 계산복잡성 대비 높은 예측 성능을 갖고 있지만, 결정경계(decision boundary)가 데이터 축에 수직이어서 특정 데이터에만 잘 작동할 가능성이 높음\n",
    "- **Random Forest:** 의사결정나무를 여러 개 만들어 그 결과를 종합해 예측\n",
    "- **SVM:** 데이터를 비선형 매핑(Mapping)을 통해 고차원으로 변환하고, 새로운 차원에서 초평면(hyperplane)을 최적으로 분리하는 선형분리를 찾아서 최적의 의사결정 영역(Decision Boundary)를 찾음\n",
    "- **SGD Classifier:** 확률적으로 무작위로 골라낸 데이터에 대해 수행하는 경사 하강법\n",
    "- **Logistic Regession:** 회귀를 사용하여 데이터가 어떤 범주에 속할 확률을 0에서 1 사이의 값으로 예측하고, 그 확률에 따라 가능성이 더 높은 범주에 속하는 것으로 분류"
   ]
  },
  {
   "cell_type": "code",
   "execution_count": 8,
   "id": "sharp-penguin",
   "metadata": {},
   "outputs": [
    {
     "name": "stdout",
     "output_type": "stream",
     "text": [
      "              precision    recall  f1-score   support\n",
      "\n",
      "           0       0.97      0.83      0.90        42\n",
      "           1       0.91      0.99      0.95        72\n",
      "\n",
      "    accuracy                           0.93       114\n",
      "   macro avg       0.94      0.91      0.92       114\n",
      "weighted avg       0.93      0.93      0.93       114\n",
      "\n",
      "[[35  7]\n",
      " [ 1 71]]\n"
     ]
    }
   ],
   "source": [
    "# Decision Tree\n",
    "decision_tree = DecisionTreeClassifier(random_state=2)\n",
    "decision_tree.fit(X_train, y_train)\n",
    "y_pred = decision_tree.predict(X_test)\n",
    "\n",
    "print(classification_report(y_test, y_pred))\n",
    "print(confusion_matrix(y_test, y_pred))"
   ]
  },
  {
   "cell_type": "code",
   "execution_count": 9,
   "id": "diagnostic-basketball",
   "metadata": {},
   "outputs": [
    {
     "name": "stdout",
     "output_type": "stream",
     "text": [
      "              precision    recall  f1-score   support\n",
      "\n",
      "           0       0.97      0.88      0.93        42\n",
      "           1       0.93      0.99      0.96        72\n",
      "\n",
      "    accuracy                           0.95       114\n",
      "   macro avg       0.95      0.93      0.94       114\n",
      "weighted avg       0.95      0.95      0.95       114\n",
      "\n",
      "[[37  5]\n",
      " [ 1 71]]\n"
     ]
    }
   ],
   "source": [
    "# Random Forest\n",
    "random_forest = RandomForestClassifier(random_state=2)\n",
    "random_forest.fit(X_train, y_train)\n",
    "y_pred = random_forest.predict(X_test)\n",
    "\n",
    "print(classification_report(y_test, y_pred))\n",
    "print(confusion_matrix(y_test, y_pred))"
   ]
  },
  {
   "cell_type": "code",
   "execution_count": 10,
   "id": "developmental-hierarchy",
   "metadata": {},
   "outputs": [
    {
     "name": "stdout",
     "output_type": "stream",
     "text": [
      "              precision    recall  f1-score   support\n",
      "\n",
      "           0       1.00      0.74      0.85        42\n",
      "           1       0.87      1.00      0.93        72\n",
      "\n",
      "    accuracy                           0.90       114\n",
      "   macro avg       0.93      0.87      0.89       114\n",
      "weighted avg       0.92      0.90      0.90       114\n",
      "\n",
      "[[31 11]\n",
      " [ 0 72]]\n"
     ]
    }
   ],
   "source": [
    "# SVM\n",
    "svm_model = svm.SVC()\n",
    "svm_model.fit(X_train, y_train)\n",
    "y_pred = svm_model.predict(X_test)\n",
    "\n",
    "print(classification_report(y_test, y_pred))\n",
    "print(confusion_matrix(y_test, y_pred))"
   ]
  },
  {
   "cell_type": "code",
   "execution_count": 11,
   "id": "scenic-bankruptcy",
   "metadata": {},
   "outputs": [
    {
     "name": "stdout",
     "output_type": "stream",
     "text": [
      "              precision    recall  f1-score   support\n",
      "\n",
      "           0       0.76      0.93      0.84        42\n",
      "           1       0.95      0.83      0.89        72\n",
      "\n",
      "    accuracy                           0.87       114\n",
      "   macro avg       0.86      0.88      0.86       114\n",
      "weighted avg       0.88      0.87      0.87       114\n",
      "\n",
      "[[39  3]\n",
      " [12 60]]\n"
     ]
    }
   ],
   "source": [
    "# SGD Classifier\n",
    "sgd_model = SGDClassifier()\n",
    "sgd_model.fit(X_train, y_train)\n",
    "y_pred = sgd_model.predict(X_test)\n",
    "\n",
    "print(classification_report(y_test, y_pred))\n",
    "print(confusion_matrix(y_test, y_pred))"
   ]
  },
  {
   "cell_type": "code",
   "execution_count": 12,
   "id": "cosmetic-stomach",
   "metadata": {},
   "outputs": [
    {
     "name": "stdout",
     "output_type": "stream",
     "text": [
      "              precision    recall  f1-score   support\n",
      "\n",
      "           0       0.95      0.90      0.93        42\n",
      "           1       0.95      0.97      0.96        72\n",
      "\n",
      "    accuracy                           0.95       114\n",
      "   macro avg       0.95      0.94      0.94       114\n",
      "weighted avg       0.95      0.95      0.95       114\n",
      "\n",
      "[[38  4]\n",
      " [ 2 70]]\n"
     ]
    },
    {
     "name": "stderr",
     "output_type": "stream",
     "text": [
      "/opt/conda/lib/python3.7/site-packages/sklearn/linear_model/_logistic.py:762: ConvergenceWarning: lbfgs failed to converge (status=1):\n",
      "STOP: TOTAL NO. of ITERATIONS REACHED LIMIT.\n",
      "\n",
      "Increase the number of iterations (max_iter) or scale the data as shown in:\n",
      "    https://scikit-learn.org/stable/modules/preprocessing.html\n",
      "Please also refer to the documentation for alternative solver options:\n",
      "    https://scikit-learn.org/stable/modules/linear_model.html#logistic-regression\n",
      "  extra_warning_msg=_LOGISTIC_SOLVER_CONVERGENCE_MSG)\n"
     ]
    }
   ],
   "source": [
    "# Logistic Regression\n",
    "logistic_model = LogisticRegression()\n",
    "logistic_model.fit(X_train, y_train)\n",
    "y_pred = logistic_model.predict(X_test)\n",
    "\n",
    "print(classification_report(y_test, y_pred))\n",
    "print(confusion_matrix(y_test, y_pred))"
   ]
  },
  {
   "cell_type": "markdown",
   "id": "unsigned-deadline",
   "metadata": {},
   "source": [
    "---"
   ]
  },
  {
   "cell_type": "markdown",
   "id": "cross-pattern",
   "metadata": {},
   "source": [
    "#### 4. 고찰"
   ]
  },
  {
   "cell_type": "markdown",
   "id": "separated-tracy",
   "metadata": {},
   "source": [
    "- 데이터 Descibe\n",
    "\n",
    "1. 유방암 데이터 569개\n",
    "2. 해당 데이터의 30개 특징을 이용하여 악성, 양성 분류\n",
    "\n",
    "- 모든 모델의 정확도가 준수한 편이다. 다만, 질병진단 분류인 만큼 오차가 큰 문제를 야기할 수 있어 모든 모델에 오차행렬을 구하고 각 성능지표를 확인해보았다.\n",
    "\n",
    "- 각 행렬은 TP(1행 1열), FN(1행 2열), FP(2행 1열), TN(2행 2열)로 볼 수 있으며 각 내용은 아래와 같다.\n",
    "\n",
    "1. TP(True Positive) : 실제 환자에게 양성판정 (참 양성)\n",
    "2. FN(False Negative) : 실제 환자에게 음성판정 (거짓 음성) - 치료시기를 놓칠 수 있어 큰일남\n",
    "3. FP(False Positive) : 건강한 사람에게 양성판정 (거짓 양성) - 재검사하면 됨\n",
    "4. TN(True Negative) : 건강한 사람에게 음성판정 (참 음성)\n",
    "\n",
    "- 실제 진단에 모델을 적용할 경우 FN(False Negative) 값이 0이 나올 수 있도록 하기위해 최선을 다해야 하며, 현재 모든 모델에서 FN 값이 있어 실제 사용하기에 무리가 있다."
   ]
  }
 ],
 "metadata": {
  "kernelspec": {
   "display_name": "Python 3",
   "language": "python",
   "name": "python3"
  },
  "language_info": {
   "codemirror_mode": {
    "name": "ipython",
    "version": 3
   },
   "file_extension": ".py",
   "mimetype": "text/x-python",
   "name": "python",
   "nbconvert_exporter": "python",
   "pygments_lexer": "ipython3",
   "version": "3.7.9"
  }
 },
 "nbformat": 4,
 "nbformat_minor": 5
}
