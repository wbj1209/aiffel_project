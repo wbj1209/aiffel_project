{
 "cells": [
  {
   "cell_type": "markdown",
   "id": "unlimited-gender",
   "metadata": {},
   "source": [
    "# 1️⃣ 가위바위보 분류기"
   ]
  },
  {
   "cell_type": "markdown",
   "id": "radio-consent",
   "metadata": {},
   "source": [
    "### 😀 프로젝트 순서   \n",
    "\n",
    "**1. 데이터 준비/전처리**   \n",
    "**2. 모델 설계**   \n",
    "**3. 모델 학습**   \n",
    "**4. 모델 평가**   \n",
    "**5. 모델 개선** "
   ]
  },
  {
   "cell_type": "markdown",
   "id": "structured-convention",
   "metadata": {},
   "source": [
    "## 1. 데이터 준비/전처리"
   ]
  },
  {
   "cell_type": "markdown",
   "id": "impressed-wichita",
   "metadata": {},
   "source": [
    "1. https://teachablemachine.withgoogle.com/ 를 통해 직접 제작(테스트용 데이터 300장)\n",
    "2. 위 사이트에서 만든 친구들의 데이터 모음(훈련용 데이터 4200장)\n",
    "3. resize(), load_data()를 통한 데이터 전처리"
   ]
  },
  {
   "cell_type": "markdown",
   "id": "stuck-lewis",
   "metadata": {},
   "source": [
    "#### resize() 함수 만들기\n",
    "(해상도 조정)"
   ]
  },
  {
   "cell_type": "code",
   "execution_count": 4,
   "id": "independent-wrong",
   "metadata": {},
   "outputs": [],
   "source": [
    "from PIL import Image # Image모듈(open, resize, save 함수)\n",
    "import os, glob #glob 모듈의 glob 함수\n",
    "\n",
    "def resize_images(img_path):\n",
    "    images=glob.glob(img_path + \"/*.jpg\")   # glob: 경로의 모든 파일 및 디렉토리를 리스트로 반환\n",
    "    \n",
    "    print(len(images), \"images to be resized.\")\n",
    "    \n",
    "    # 작은 해상도로 resizing 한 후 jpeg로 저장\n",
    "    target_size=(28, 28)\n",
    "    for img in images:\n",
    "        old_img=Image.open(img)\n",
    "        new_img=old_img.resize(target_size, Image.ANTIALIAS) # 안티엘리어싱\n",
    "        new_img.save(img, \"JPEG\")\n",
    "        \n",
    "    print(len(images), \"images resized.\")"
   ]
  },
  {
   "cell_type": "markdown",
   "id": "referenced-riverside",
   "metadata": {},
   "source": [
    "안티엘리어싱: 높은 해상도의 사진 또는 영상을 낮은 해상도로 변환하거나 나타낼때 깨진 패턴의 형태로 나타나게 되는데 이를 최소화 시켜주는 방법"
   ]
  },
  {
   "cell_type": "code",
   "execution_count": 16,
   "id": "serial-place",
   "metadata": {},
   "outputs": [
    {
     "name": "stdout",
     "output_type": "stream",
     "text": [
      "1400 images to be resized.\n",
      "1400 images resized.\n",
      "1400 images to be resized.\n",
      "1400 images resized.\n",
      "1400 images to be resized.\n",
      "1400 images resized.\n"
     ]
    }
   ],
   "source": [
    "image_dir_path = os.getenv('HOME') + '/aiffel/rsp/modu/sci'\n",
    "resize_images(image_dir_path)\n",
    "\n",
    "image_dir_path = os.getenv('HOME') + '/aiffel/rsp/modu/roc'\n",
    "resize_images(image_dir_path)\n",
    "\n",
    "image_dir_path = os.getenv('HOME') + '/aiffel/rsp/modu/pap'\n",
    "resize_images(image_dir_path)"
   ]
  },
  {
   "cell_type": "markdown",
   "id": "ancient-double",
   "metadata": {},
   "source": [
    "#### load_data() 함수 만들기   \n",
    "(이미지 데이터화 및 라벨링)"
   ]
  },
  {
   "cell_type": "code",
   "execution_count": 17,
   "id": "canadian-portuguese",
   "metadata": {},
   "outputs": [],
   "source": [
    "import numpy as np\n",
    "\n",
    "def load_data(img_path, number_of_data=4200):\n",
    "    img_size=28\n",
    "    color=3    \n",
    "    # 이미지와 라벨 데이터를 담을 행렬(matrix) 생성\n",
    "    imgs=np.zeros(number_of_data*img_size*img_size*color,dtype=np.int32).reshape(number_of_data,img_size,img_size,color)\n",
    "    labels=np.zeros(number_of_data, dtype=np.int32)\n",
    "    \n",
    "    idx = 0\n",
    "    for file in glob.iglob(img_path + '/sci/*.jpg'): #glob.iglob는 리스트 대신 이터레이터 반환\n",
    "        img = np.array(Image.open(file), dtype=np.int32)\n",
    "        imgs[idx,:,:,:] = img     # 데이터 영역에 이미지 행렬을 복사\n",
    "        labels[idx] = 0 # 가위:0\n",
    "        idx = idx + 1\n",
    "        \n",
    "    for file in glob.iglob(img_path+'/roc/*.jpg'):\n",
    "        img = np.array(Image.open(file),dtype=np.int32)\n",
    "        imgs[idx,:,:,:]=img\n",
    "        labels[idx]=1   # 바위:1\n",
    "        idx=idx+1  \n",
    "    \n",
    "    for file in glob.iglob(img_path+'/pap/*.jpg'):\n",
    "        img = np.array(Image.open(file),dtype=np.int32)\n",
    "        imgs[idx,:,:,:]=img\n",
    "        labels[idx]=2   # 보:2\n",
    "        idx=idx+1\n",
    "        \n",
    "    return imgs, labels"
   ]
  },
  {
   "cell_type": "markdown",
   "id": "specified-failure",
   "metadata": {},
   "source": [
    "#### 훈련용 데이터 확인"
   ]
  },
  {
   "cell_type": "code",
   "execution_count": 18,
   "id": "sized-medium",
   "metadata": {
    "scrolled": true
   },
   "outputs": [
    {
     "name": "stdout",
     "output_type": "stream",
     "text": [
      "x_train shape: (4200, 28, 28, 3)\n",
      "y_train shape: (4200,)\n",
      "라벨:  0\n"
     ]
    },
    {
     "data": {
      "image/png": "[encoded data removed]",
      "text/plain": [
       "<Figure size 432x288 with 1 Axes>"
      ]
     },
     "metadata": {
      "needs_background": "light"
     },
     "output_type": "display_data"
    }
   ],
   "source": [
    "image_dir_path = os.getenv(\"HOME\") + \"/aiffel/rsp/modu\"\n",
    "(x_train, y_train)=load_data(image_dir_path)\n",
    "x_train = x_train/255.0 # 입력을 0 ~ 1 사이의 값으로 정규화\n",
    "\n",
    "print(\"x_train shape: {}\".format(x_train.shape))\n",
    "print(\"y_train shape: {}\".format(y_train.shape))\n",
    "\n",
    "import matplotlib.pyplot as plt\n",
    "plt.imshow(x_train[1])\n",
    "print('라벨: ', y_train[1])"
   ]
  },
  {
   "cell_type": "markdown",
   "id": "convenient-binding",
   "metadata": {},
   "source": [
    "#### 테스트용 데이터 확인"
   ]
  },
  {
   "cell_type": "code",
   "execution_count": 15,
   "id": "narrative-pulse",
   "metadata": {},
   "outputs": [
    {
     "name": "stdout",
     "output_type": "stream",
     "text": [
      "x_test shape: (300, 28, 28, 3)\n",
      "y_test shape: (300,)\n",
      "라벨:  0\n"
     ]
    },
    {
     "data": {
      "image/png": "[encoded data removed]",
      "text/plain": [
       "<Figure size 432x288 with 1 Axes>"
      ]
     },
     "metadata": {
      "needs_background": "light"
     },
     "output_type": "display_data"
    }
   ],
   "source": [
    "image_dir_path = os.getenv(\"HOME\") + \"/aiffel/rsp\"\n",
    "(x_test, y_test)=load_data(image_dir_path)\n",
    "x_test = x_test/255.0\n",
    "\n",
    "print(\"x_test shape: {}\".format(x_test.shape))\n",
    "print(\"y_test shape: {}\".format(y_test.shape))\n",
    "\n",
    "plt.imshow(x_test[1])\n",
    "print('라벨: ', y_test[1])"
   ]
  },
  {
   "cell_type": "markdown",
   "id": "applied-angel",
   "metadata": {},
   "source": [
    "---"
   ]
  },
  {
   "cell_type": "markdown",
   "id": "neutral-headquarters",
   "metadata": {},
   "source": [
    "## 2. 모델 설계"
   ]
  },
  {
   "cell_type": "markdown",
   "id": "figured-hometown",
   "metadata": {},
   "source": [
    "1. 케라스의 여러 모델 공부하기\n",
    "2. 순차모델에서 레이어층 활용법 공부하기"
   ]
  },
  {
   "cell_type": "code",
   "execution_count": 19,
   "id": "private-israeli",
   "metadata": {},
   "outputs": [
    {
     "name": "stdout",
     "output_type": "stream",
     "text": [
      "Model에 추가된 Layer 개수: 7\n",
      "Model: \"sequential\"\n",
      "_________________________________________________________________\n",
      "Layer (type)                 Output Shape              Param #   \n",
      "=================================================================\n",
      "conv2d (Conv2D)              (None, 26, 26, 16)        448       \n",
      "_________________________________________________________________\n",
      "max_pooling2d (MaxPooling2D) (None, 13, 13, 16)        0         \n",
      "_________________________________________________________________\n",
      "conv2d_1 (Conv2D)            (None, 11, 11, 32)        4640      \n",
      "_________________________________________________________________\n",
      "max_pooling2d_1 (MaxPooling2 (None, 5, 5, 32)          0         \n",
      "_________________________________________________________________\n",
      "flatten (Flatten)            (None, 800)               0         \n",
      "_________________________________________________________________\n",
      "dense (Dense)                (None, 32)                25632     \n",
      "_________________________________________________________________\n",
      "dense_1 (Dense)              (None, 3)                 99        \n",
      "=================================================================\n",
      "Total params: 30,819\n",
      "Trainable params: 30,819\n",
      "Non-trainable params: 0\n",
      "_________________________________________________________________\n"
     ]
    }
   ],
   "source": [
    "from tensorflow import keras\n",
    "import numpy as np\n",
    "\n",
    "model=keras.models.Sequential() # 케라스의 순차모델. 순차적으로 레이어 층 더함\n",
    "model.add(keras.layers.Conv2D(16, (3, 3), activation='relu', input_shape=(28, 28, 3))) # 입력이미지 형태\n",
    "model.add(keras.layers.MaxPool2D(2, 2))\n",
    "model.add(keras.layers.Conv2D(32, (3, 3), activation='relu')) # 16, 32 등 얼마나 다양한 이미지 특징을 살펴볼 것인가 나타냄\n",
    "model.add(keras.layers.MaxPooling2D((2, 2)))\n",
    "model.add(keras.layers.Flatten()) # 1차원으로 나열\n",
    "model.add(keras.layers.Dense(32, activation='relu')) # 분류기 알고리즘 얼마나 복잡하게 할것인가 나타냄 (32, 64, 128 등)\n",
    "model.add(keras.layers.Dense(3, activation='softmax')) # 최종 분류기의 class 수 (숫자는 10, 알파벳은 52 등 결과에 따라 바뀜)\n",
    "\n",
    "print(\"Model에 추가된 Layer 개수:\", len(model.layers))\n",
    "\n",
    "model.summary()"
   ]
  },
  {
   "cell_type": "markdown",
   "id": "apparent-forestry",
   "metadata": {},
   "source": [
    "---"
   ]
  },
  {
   "cell_type": "markdown",
   "id": "polish-smooth",
   "metadata": {},
   "source": [
    "## 3. 모델 학습"
   ]
  },
  {
   "cell_type": "markdown",
   "id": "popular-headquarters",
   "metadata": {},
   "source": [
    "1. 첫 번째 레이어 층에서 input_shape=(28,28,3)로 지정했던 것을 전처리과정에서의 형태(데이터갯수, 이미지 크기 x, 이미지 크기 y, 채널수)로 바꿔줘야함   \n",
    "2. compile(), fit()를 통한 학습 진행\n",
    "  - 옵티마이저(Optimizer): 데이터와 손실 함수를 바탕으로 모델의 업데이트 방법을 결정\n",
    "  - 손실 함수(Loss function): 훈련 하는 동안 모델의 오차를 측정. 모델의 학습이 올바른 방향으로 향하려면 이 함수를 최소화해야함.\n",
    "  - 지표(Metrics): 훈련 단계와 테스트 단계를 모니터링하기 위해 사용."
   ]
  },
  {
   "cell_type": "code",
   "execution_count": 23,
   "id": "challenging-panel",
   "metadata": {},
   "outputs": [
    {
     "name": "stdout",
     "output_type": "stream",
     "text": [
      "Epoch 1/10\n",
      "132/132 [==============================] - 1s 3ms/step - loss: 0.0569 - accuracy: 0.9874\n",
      "Epoch 2/10\n",
      "132/132 [==============================] - 0s 3ms/step - loss: 0.0389 - accuracy: 0.9939\n",
      "Epoch 3/10\n",
      "132/132 [==============================] - 0s 3ms/step - loss: 0.0266 - accuracy: 0.9961\n",
      "Epoch 4/10\n",
      "132/132 [==============================] - 0s 3ms/step - loss: 0.0207 - accuracy: 0.9967\n",
      "Epoch 5/10\n",
      "132/132 [==============================] - 0s 3ms/step - loss: 0.0303 - accuracy: 0.9926\n",
      "Epoch 6/10\n",
      "132/132 [==============================] - 0s 3ms/step - loss: 0.0133 - accuracy: 0.9976\n",
      "Epoch 7/10\n",
      "132/132 [==============================] - 0s 3ms/step - loss: 0.0161 - accuracy: 0.9976\n",
      "Epoch 8/10\n",
      "132/132 [==============================] - 0s 3ms/step - loss: 0.0087 - accuracy: 0.9988\n",
      "Epoch 9/10\n",
      "132/132 [==============================] - 0s 3ms/step - loss: 0.0055 - accuracy: 0.9980\n",
      "Epoch 10/10\n",
      "132/132 [==============================] - 0s 3ms/step - loss: 0.0036 - accuracy: 0.9999\n"
     ]
    },
    {
     "data": {
      "text/plain": [
       "<tensorflow.python.keras.callbacks.History at 0x7f54b414f810>"
      ]
     },
     "execution_count": 23,
     "metadata": {},
     "output_type": "execute_result"
    }
   ],
   "source": [
    "x_train_reshaped=x_train.reshape( -1, 28, 28, 3)\n",
    "\n",
    "model.compile(optimizer='adam', # 기울기 방향에 대한 경사하강 방법(역전파를 통한 가중치 최적화)\n",
    "              loss='sparse_categorical_crossentropy', # 다중 분류의 Cross Entropy Error\n",
    "              metrics=['accuracy']) # 모델 평가를 위한 평가 지표\n",
    "model.fit(x_train_reshaped, y_train, epochs=10)  # epochs:학습 반복 횟수"
   ]
  },
  {
   "cell_type": "markdown",
   "id": "tough-fiber",
   "metadata": {},
   "source": [
    "---"
   ]
  },
  {
   "cell_type": "markdown",
   "id": "likely-mexican",
   "metadata": {},
   "source": [
    "## 4. 모델 평가"
   ]
  },
  {
   "cell_type": "markdown",
   "id": "floppy-pleasure",
   "metadata": {},
   "source": [
    "evaluate()를 통해 평가"
   ]
  },
  {
   "cell_type": "code",
   "execution_count": 24,
   "id": "convenient-least",
   "metadata": {},
   "outputs": [
    {
     "name": "stdout",
     "output_type": "stream",
     "text": [
      "10/10 - 1s - loss: 1.3041 - accuracy: 0.6967\n"
     ]
    },
    {
     "data": {
      "text/plain": [
       "[1.3041162490844727, 0.6966666579246521]"
      ]
     },
     "execution_count": 24,
     "metadata": {},
     "output_type": "execute_result"
    }
   ],
   "source": [
    "model.evaluate(x_test, y_test, verbose=2) # verbose 0,1,2 가능"
   ]
  },
  {
   "cell_type": "markdown",
   "id": "cultural-picking",
   "metadata": {},
   "source": [
    "---"
   ]
  },
  {
   "cell_type": "markdown",
   "id": "effective-variation",
   "metadata": {},
   "source": [
    "## 5. 모델 개선"
   ]
  },
  {
   "cell_type": "markdown",
   "id": "basic-combine",
   "metadata": {},
   "source": [
    "**테스트 결과** <br>  \n",
    "학습데이터(내 데이터) **300장** / 테스트데이터(친구 데이터) **300장** 으로 테스트 시 정확도 **약 0.46**을 얻음   \n",
    "기준점에 미달하여 개선 시도<br>\n",
    "\n",
    "\n",
    "**개선 방안**\n",
    "1. 하이퍼파라미터 튜닝\n",
    "  - 정규화 제거 -> 정확도 **약 0.49**로 상승 -> 하지만 loss 값이 600으로 폭증함\n",
    "  - Conv2D 레이어의 이미지 특징 수를 2배로 늘림 -> 정확도 **약 0.33**으로 감소 -> 해당 파라미터를 높이자 오히려 정확도가 감소함 \n",
    "  - Dense 레이어의 뉴런 수 2배로 늘림 -> 정확도 **약 0.35**으로 감소 ->  마찬가지로 파라미터를 높이자 정확도 감소함\n",
    "\n",
    "**해당 케이스의 경우 하이퍼파라미터 튜닝으로 정확도를 상승시키기는 어렵다고 판단함**\n",
    "\n",
    "2. 학습데이터 늘리기\n",
    "  - 내 데이터(학습용) **300장** / 친구 데이터(테스트용) **300장** -> 친구들 데이터(학습용) **4200장** / 내 데이터(테스트용) **300장**\n",
    "\n",
    "\n",
    "### 위와 같이 정확도 약 0.7로 기준점(0.6) 이상 도달"
   ]
  },
  {
   "cell_type": "code",
   "execution_count": null,
   "id": "little-crystal",
   "metadata": {},
   "outputs": [],
   "source": []
  }
 ],
 "metadata": {
  "kernelspec": {
   "display_name": "Python 3",
   "language": "python",
   "name": "python3"
  },
  "language_info": {
   "codemirror_mode": {
    "name": "ipython",
    "version": 3
   },
   "file_extension": ".py",
   "mimetype": "text/x-python",
   "name": "python",
   "nbconvert_exporter": "python",
   "pygments_lexer": "ipython3",
   "version": "3.7.9"
  }
 },
 "nbformat": 4,
 "nbformat_minor": 5
}
