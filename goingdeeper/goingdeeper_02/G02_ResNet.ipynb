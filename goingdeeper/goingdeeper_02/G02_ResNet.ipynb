{
 "cells": [
  {
   "cell_type": "markdown",
   "id": "joined-textbook",
   "metadata": {},
   "source": [
    "# ResNet 직접 구현하기\n",
    "---\n",
    "**\"ResNet을 직접 구현하고 Plain Network와 비교하여 그 성능을 확인하는 프로젝트\"**\n",
    "<br>\n",
    "#### 😏 목차\n",
    "1. ResNet 구현\n",
    "2. Plain Network 구현\n",
    "3. 성능 비교\n",
    "4. 회고"
   ]
  },
  {
   "cell_type": "markdown",
   "id": "future-hebrew",
   "metadata": {},
   "source": [
    "#### 모듈"
   ]
  },
  {
   "cell_type": "code",
   "execution_count": 1,
   "id": "homeless-question",
   "metadata": {},
   "outputs": [],
   "source": [
    "# TensorFlow and tf.keras\n",
    "import tensorflow as tf\n",
    "from tensorflow import keras\n",
    "\n",
    "# Helper libraries\n",
    "import numpy as np\n",
    "import matplotlib.pyplot as plt\n",
    "\n",
    "import tensorflow_datasets as tfds"
   ]
  },
  {
   "cell_type": "markdown",
   "id": "direct-generic",
   "metadata": {},
   "source": [
    "---\n",
    "## 1. ResNet 구현"
   ]
  },
  {
   "cell_type": "markdown",
   "id": "applicable-watch",
   "metadata": {},
   "source": [
    "### 1-1 ResNet 블록 구성"
   ]
  },
  {
   "cell_type": "markdown",
   "id": "valued-equality",
   "metadata": {},
   "source": [
    "### 1-2 ResNet-34"
   ]
  },
  {
   "cell_type": "markdown",
   "id": "designed-modem",
   "metadata": {},
   "source": [
    "### 1-3 ResNet-50"
   ]
  },
  {
   "cell_type": "markdown",
   "id": "smooth-parks",
   "metadata": {},
   "source": [
    "---\n",
    "## 2. Plain Network 구현"
   ]
  },
  {
   "cell_type": "markdown",
   "id": "capable-invasion",
   "metadata": {},
   "source": [
    "### 2-1 Plain Network 블록 구성"
   ]
  },
  {
   "cell_type": "markdown",
   "id": "subjective-sympathy",
   "metadata": {},
   "source": [
    "### 2-2 Plain Network-34"
   ]
  },
  {
   "cell_type": "markdown",
   "id": "governing-blend",
   "metadata": {},
   "source": [
    "### 2-3 Plain Network-50"
   ]
  },
  {
   "cell_type": "markdown",
   "id": "violent-guarantee",
   "metadata": {},
   "source": [
    "---\n",
    "## 3. 성능 비교"
   ]
  },
  {
   "cell_type": "markdown",
   "id": "pediatric-contents",
   "metadata": {},
   "source": [
    "### 3-1 데이터 준비\n",
    "- tensorflow-datasets의 cats_vs_dogs 데이터"
   ]
  },
  {
   "cell_type": "code",
   "execution_count": null,
   "id": "continuing-cedar",
   "metadata": {},
   "outputs": [],
   "source": []
  },
  {
   "cell_type": "markdown",
   "id": "specific-afghanistan",
   "metadata": {},
   "source": [
    "### 3-2 ResNet-34 vs Plain Network-34 비교"
   ]
  },
  {
   "cell_type": "code",
   "execution_count": null,
   "id": "plain-tribe",
   "metadata": {},
   "outputs": [],
   "source": []
  },
  {
   "cell_type": "markdown",
   "id": "religious-ireland",
   "metadata": {},
   "source": [
    "#### ResNet-34"
   ]
  },
  {
   "cell_type": "markdown",
   "id": "weird-mouth",
   "metadata": {},
   "source": [
    "#### Plain Network-34"
   ]
  },
  {
   "cell_type": "markdown",
   "id": "satisfied-austria",
   "metadata": {},
   "source": [
    "#### 시각화"
   ]
  },
  {
   "cell_type": "markdown",
   "id": "completed-wrestling",
   "metadata": {},
   "source": [
    "---\n",
    "## 4. 회고"
   ]
  },
  {
   "cell_type": "code",
   "execution_count": null,
   "id": "grateful-salon",
   "metadata": {},
   "outputs": [],
   "source": []
  }
 ],
 "metadata": {
  "kernelspec": {
   "display_name": "Python 3",
   "language": "python",
   "name": "python3"
  },
  "language_info": {
   "codemirror_mode": {
    "name": "ipython",
    "version": 3
   },
   "file_extension": ".py",
   "mimetype": "text/x-python",
   "name": "python",
   "nbconvert_exporter": "python",
   "pygments_lexer": "ipython3",
   "version": "3.7.9"
  }
 },
 "nbformat": 4,
 "nbformat_minor": 5
}
