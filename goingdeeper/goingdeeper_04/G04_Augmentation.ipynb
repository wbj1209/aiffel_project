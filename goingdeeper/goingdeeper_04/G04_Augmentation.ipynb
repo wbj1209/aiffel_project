{
 "cells": [
  {
   "cell_type": "markdown",
   "id": "funded-indie",
   "metadata": {},
   "source": [
    "# Augmentation\n",
    "**\"CutMix, Mixup기법을  적용해보는 프로젝트\"**\n",
    "\n",
    "#### 목차\n",
    "1. Augmentation을 이용한 데이터셋 만들기\n",
    "2. 모델 만들기\n",
    "3. 모델 훈련하기\n",
    "4. 훈련 과정 시각화하기\n",
    "5. Augmentation에 의한 모델 성능 비교"
   ]
  },
  {
   "cell_type": "markdown",
   "id": "plastic-baking",
   "metadata": {},
   "source": [
    "#### 모듈"
   ]
  },
  {
   "cell_type": "code",
   "execution_count": 1,
   "id": "diverse-sullivan",
   "metadata": {},
   "outputs": [],
   "source": [
    "# TensorFlow and tf.keras\n",
    "import tensorflow as tf\n",
    "from tensorflow import keras\n",
    "\n",
    "# Helper libraries\n",
    "import numpy as np\n",
    "import matplotlib.pyplot as plt\n",
    "\n",
    "import tensorflow_datasets as tfds"
   ]
  },
  {
   "cell_type": "code",
   "execution_count": null,
   "id": "finished-declaration",
   "metadata": {},
   "outputs": [],
   "source": []
  }
 ],
 "metadata": {
  "kernelspec": {
   "display_name": "Python 3",
   "language": "python",
   "name": "python3"
  },
  "language_info": {
   "codemirror_mode": {
    "name": "ipython",
    "version": 3
   },
   "file_extension": ".py",
   "mimetype": "text/x-python",
   "name": "python",
   "nbconvert_exporter": "python",
   "pygments_lexer": "ipython3",
   "version": "3.7.9"
  }
 },
 "nbformat": 4,
 "nbformat_minor": 5
}
